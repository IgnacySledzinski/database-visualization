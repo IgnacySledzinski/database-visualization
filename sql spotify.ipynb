{
 "cells": [
  {
   "cell_type": "code",
   "execution_count": null,
   "metadata": {
    "vscode": {
     "languageId": "sql"
    }
   },
   "outputs": [],
   "source": [
    "# Top 5 tracks \n",
    "select * \n",
    "from `Projekt_Chmurki_Grupa_Spotifaj.Chmurki`\n",
    "order by popularity desc, artist_name\n",
    "limit 10"
   ]
  },
  {
   "cell_type": "code",
   "execution_count": null,
   "metadata": {
    "vscode": {
     "languageId": "sql"
    }
   },
   "outputs": [],
   "source": [
    "select distinct(track_name) from `Projekt_Chmurki_Grupa_Spotifaj.test`"
   ]
  },
  {
   "cell_type": "code",
   "execution_count": null,
   "metadata": {
    "vscode": {
     "languageId": "sql"
    }
   },
   "outputs": [],
   "source": [
    "#genre\n",
    "select distinct genre\n",
    "from `Projekt_Chmurki_Grupa_Spotifaj.Chmurki`\n"
   ]
  },
  {
   "cell_type": "code",
   "execution_count": null,
   "metadata": {
    "vscode": {
     "languageId": "sql"
    }
   },
   "outputs": [],
   "source": [
    "#genre and popularity\n",
    "select genre, popularity\n",
    "from `Projekt_Chmurki_Grupa_Spotifaj.Chmurki`\n",
    "order by popularity desc"
   ]
  },
  {
   "cell_type": "code",
   "execution_count": null,
   "metadata": {
    "vscode": {
     "languageId": "sql"
    }
   },
   "outputs": [],
   "source": [
    "select SUM(popularity) as pop, genre\n",
    "from `Projekt_Chmurki_Grupa_Spotifaj.Gatunki i popularnosc`\n",
    "group by genre\n",
    "order by sum(popularity) desc"
   ]
  },
  {
   "cell_type": "code",
   "execution_count": null,
   "metadata": {
    "vscode": {
     "languageId": "sql"
    }
   },
   "outputs": [],
   "source": [
    "#genre and danceability\n",
    "select genre, danceability\n",
    "from `Projekt_Chmurki_Grupa_Spotifaj.Chmurki`\n",
    "order by danceability desc"
   ]
  },
  {
   "cell_type": "code",
   "execution_count": null,
   "metadata": {
    "vscode": {
     "languageId": "sql"
    }
   },
   "outputs": [],
   "source": [
    "select SUM(danceability) as dance, genre\n",
    "from `Projekt_Chmurki_Grupa_Spotifaj.gatunki i tance`\n",
    "group by genre\n",
    "order by sum(danceability) desc\n"
   ]
  },
  {
   "cell_type": "code",
   "execution_count": null,
   "metadata": {
    "vscode": {
     "languageId": "sql"
    }
   },
   "outputs": [],
   "source": [
    "#genre and energy\n",
    "select genre, energy\n",
    "from `Projekt_Chmurki_Grupa_Spotifaj.Chmurki`\n",
    "order by energy desc"
   ]
  },
  {
   "cell_type": "code",
   "execution_count": null,
   "metadata": {
    "vscode": {
     "languageId": "sql"
    }
   },
   "outputs": [],
   "source": [
    "select SUM(energy) as energia, genre\n",
    "from `Projekt_Chmurki_Grupa_Spotifaj.Gatunki i energia`\n",
    "group by genre\n",
    "order by sum(energy) desc\n"
   ]
  },
  {
   "cell_type": "code",
   "execution_count": null,
   "metadata": {
    "vscode": {
     "languageId": "sql"
    }
   },
   "outputs": [],
   "source": [
    "# billie eilish dataset\n",
    "select * \n",
    "from  `Projekt_Chmurki_Grupa_Spotifaj.BiliAjlisz`\n",
    "order by popularity desc\n",
    "Limit 5\n"
   ]
  },
  {
   "cell_type": "code",
   "execution_count": null,
   "metadata": {
    "vscode": {
     "languageId": "sql"
    }
   },
   "outputs": [],
   "source": [
    "# top 5 billie eilish tracks \n",
    "select name, popularity,artist\n",
    "from  `Projekt_Chmurki_Grupa_Spotifaj.BiliAjlisz`\n",
    "order by popularity desc\n",
    "Limit 5\n"
   ]
  },
  {
   "cell_type": "code",
   "execution_count": null,
   "metadata": {
    "vscode": {
     "languageId": "sql"
    }
   },
   "outputs": [],
   "source": [
    "#tracks and danceability\n",
    "select name, danceability,artist,loudness\n",
    "from  `Projekt_Chmurki_Grupa_Spotifaj.BiliAjlisz`\n",
    "order by danceability desc , loudness desc\n",
    "Limit 5\n"
   ]
  },
  {
   "cell_type": "code",
   "execution_count": null,
   "metadata": {
    "vscode": {
     "languageId": "sql"
    }
   },
   "outputs": [],
   "source": [
    "select name, danceability,artist,\n",
    "from  `Projekt_Chmurki_Grupa_Spotifaj.BiliAjlisz`\n",
    "order by danceability desc \n",
    "Limit 5"
   ]
  },
  {
   "cell_type": "code",
   "execution_count": null,
   "metadata": {
    "vscode": {
     "languageId": "sql"
    }
   },
   "outputs": [],
   "source": [
    "#tracks and loudness\n",
    "select name,loudness,artist,\n",
    "from  `Projekt_Chmurki_Grupa_Spotifaj.BiliAjlisz`\n",
    "order by loudness desc \n",
    "Limit 5"
   ]
  }
 ],
 "metadata": {
  "language_info": {
   "name": "python"
  },
  "orig_nbformat": 4
 },
 "nbformat": 4,
 "nbformat_minor": 2
}
